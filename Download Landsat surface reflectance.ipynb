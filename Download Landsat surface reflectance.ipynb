{
 "cells": [
  {
   "cell_type": "markdown",
   "metadata": {
    "colab_type": "text",
    "id": "emLTyhki350o"
   },
   "source": [
    "Initialize and authorize google ee"
   ]
  },
  {
   "cell_type": "code",
   "execution_count": null,
   "metadata": {},
   "outputs": [],
   "source": []
  },
  {
   "cell_type": "markdown",
   "metadata": {},
   "source": [
    "klt;;a;;a;d;\n",
    "\n",
    "# title\n",
    "## second line\n",
    "\n"
   ]
  },
  {
   "cell_type": "code",
   "execution_count": 8,
   "metadata": {
    "scrolled": true
   },
   "outputs": [
    {
     "data": {
      "text/html": [
       "<p>To authorize access needed by Earth Engine, open the following\n",
       "        URL in a web browser and follow the instructions:</p>\n",
       "        <p><a href=https://accounts.google.com/o/oauth2/auth?client_id=517222506229-vsmmajv00ul0bs7p89v5m89qs8eb9359.apps.googleusercontent.com&scope=https%3A%2F%2Fwww.googleapis.com%2Fauth%2Fearthengine+https%3A%2F%2Fwww.googleapis.com%2Fauth%2Fdevstorage.full_control&redirect_uri=urn%3Aietf%3Awg%3Aoauth%3A2.0%3Aoob&response_type=code&code_challenge=WhYHdwKRYaPqqxut7rEvbSrPN0-73YPRqk03_BCSSU0&code_challenge_method=S256>https://accounts.google.com/o/oauth2/auth?client_id=517222506229-vsmmajv00ul0bs7p89v5m89qs8eb9359.apps.googleusercontent.com&scope=https%3A%2F%2Fwww.googleapis.com%2Fauth%2Fearthengine+https%3A%2F%2Fwww.googleapis.com%2Fauth%2Fdevstorage.full_control&redirect_uri=urn%3Aietf%3Awg%3Aoauth%3A2.0%3Aoob&response_type=code&code_challenge=WhYHdwKRYaPqqxut7rEvbSrPN0-73YPRqk03_BCSSU0&code_challenge_method=S256</a></p>\n",
       "        <p>The authorization workflow will generate a code, which you\n",
       "        should paste in the box below</p>\n",
       "        "
      ],
      "text/plain": [
       "<IPython.core.display.HTML object>"
      ]
     },
     "metadata": {},
     "output_type": "display_data"
    },
    {
     "name": "stdout",
     "output_type": "stream",
     "text": [
      "Enter verification code: 4/1AY0e-g62ISFHjd07Y1tK7ux8MPWfkauY9e6Gi9x7xpYbn66_NRxf6zf-lHc\n",
      "\n",
      "Successfully saved authorization token.\n"
     ]
    }
   ],
   "source": [
    "import ee\n",
    "#ee.Authenticate()\n",
    "ee.Initialize()\n",
    "import geemap"
   ]
  },
  {
   "cell_type": "markdown",
   "metadata": {
    "colab_type": "text",
    "id": "YqkSIekXZodC"
   },
   "source": [
    "This will make Google EE ready to use"
   ]
  },
  {
   "cell_type": "code",
   "execution_count": 2,
   "metadata": {
    "scrolled": true
   },
   "outputs": [
    {
     "data": {
      "application/vnd.jupyter.widget-view+json": {
       "model_id": "4bcd8acede664201a5e9551b54b95534",
       "version_major": 2,
       "version_minor": 0
      },
      "text/plain": [
       "Map(center=[40, -100], controls=(WidgetControl(options=['position', 'transparent_bg'], widget=HBox(children=(T…"
      ]
     },
     "metadata": {},
     "output_type": "display_data"
    }
   ],
   "source": [
    "Map = geemap.Map(center=[40,-100], zoom=4)\n",
    "Map.add_basemap('SATELLITE') # Add Google Map\n",
    "Map"
   ]
  },
  {
   "cell_type": "code",
   "execution_count": 3,
   "metadata": {
    "colab": {},
    "colab_type": "code",
    "id": "cnuJBu7ikA8B",
    "scrolled": false
   },
   "outputs": [
    {
     "name": "stdout",
     "output_type": "stream",
     "text": [
      "ee.List({\n",
      "  \"functionInvocationValue\": {\n",
      "    \"functionName\": \"Image.bandNames\",\n",
      "    \"arguments\": {\n",
      "      \"image\": {\n",
      "        \"functionInvocationValue\": {\n",
      "          \"functionName\": \"Image.select\",\n",
      "          \"arguments\": {\n",
      "            \"bandSelectors\": {\n",
      "              \"constantValue\": [\n",
      "                \"B1\",\n",
      "                \"B2\",\n",
      "                \"B3\",\n",
      "                \"B4\",\n",
      "                \"B5\",\n",
      "                \"B6\",\n",
      "                \"B7\"\n",
      "              ]\n",
      "            },\n",
      "            \"input\": {\n",
      "              \"functionInvocationValue\": {\n",
      "                \"functionName\": \"Image.load\",\n",
      "                \"arguments\": {\n",
      "                  \"id\": {\n",
      "                    \"constantValue\": \"LANDSAT/LC08/C01/T1_SR/LC08_115035_20210323\"\n",
      "                  }\n",
      "                }\n",
      "              }\n",
      "            }\n",
      "          }\n",
      "        }\n",
      "      }\n",
      "    }\n",
      "  }\n",
      "})\n"
     ]
    }
   ],
   "source": [
    "header = 'LANDSAT/LC08/C01/T1_SR/'\n",
    "#header = 'COPERNICUS/S2'\n",
    "#string = 'LE07_020033_20130502'\n",
    "string = 'LC08_115035_20210323'\n",
    "image1 = ee.Image(header + string).select(['B1','B2','B3','B4','B5','B6','B7'])\n",
    "#print(image1.get('SPACECRAFT_NAME'))\n",
    "try:\n",
    "    print(image1.bandNames())\n",
    "    vis = {'bands': ['B5', 'B4', 'B3'],'min': [0, 0, 0], 'max': [5000,5000, 5000]} #reflectance * 10000\n",
    "    Map.addLayer(image1, vis,'Landsat 8')\n",
    "except:\n",
    "    print('image not found')    \n",
    "#print(image1)\n",
    "\n",
    "\n",
    "\n"
   ]
  },
  {
   "cell_type": "code",
   "execution_count": 4,
   "metadata": {},
   "outputs": [
    {
     "data": {
      "text/plain": [
       "{'state': 'READY',\n",
       " 'description': 'LC08_115035_20210323',\n",
       " 'creation_timestamp_ms': 1624256541828,\n",
       " 'update_timestamp_ms': 1624256541828,\n",
       " 'start_timestamp_ms': 0,\n",
       " 'task_type': 'EXPORT_IMAGE',\n",
       " 'id': 'TOHOOZ2SXAH4VAESFXEJF7H3',\n",
       " 'name': 'projects/earthengine-legacy/operations/TOHOOZ2SXAH4VAESFXEJF7H3'}"
      ]
     },
     "execution_count": 4,
     "metadata": {},
     "output_type": "execute_result"
    }
   ],
   "source": [
    "task1 = ee.batch.Export.image.toDrive(image=image1,description=string,fileNamePrefix=string,fileFormat=\"GeoTIFF\",scale=30, folder=\"anyFolder\")\n",
    "task1.start()\n",
    "task1.status()"
   ]
  },
  {
   "cell_type": "code",
   "execution_count": 9,
   "metadata": {},
   "outputs": [
    {
     "data": {
      "text/plain": [
       "{'state': 'COMPLETED',\n",
       " 'description': 'LC08_115035_20210323',\n",
       " 'creation_timestamp_ms': 1624256541828,\n",
       " 'update_timestamp_ms': 1624256878833,\n",
       " 'start_timestamp_ms': 1624256564689,\n",
       " 'task_type': 'EXPORT_IMAGE',\n",
       " 'destination_uris': ['https://drive.google.com/#folders/16Fv18Xa8CEPHuY6uFSU47EIwvy7DESMJ'],\n",
       " 'attempt': 1,\n",
       " 'id': 'TOHOOZ2SXAH4VAESFXEJF7H3',\n",
       " 'name': 'projects/earthengine-legacy/operations/TOHOOZ2SXAH4VAESFXEJF7H3'}"
      ]
     },
     "execution_count": 9,
     "metadata": {},
     "output_type": "execute_result"
    }
   ],
   "source": [
    "task1.status()\n"
   ]
  }
 ],
 "metadata": {
  "colab": {
   "collapsed_sections": [],
   "name": "runee.ipynb",
   "provenance": []
  },
  "kernelspec": {
   "display_name": "py39_gee",
   "language": "python",
   "name": "py39_gee"
  },
  "language_info": {
   "codemirror_mode": {
    "name": "ipython",
    "version": 3
   },
   "file_extension": ".py",
   "mimetype": "text/x-python",
   "name": "python",
   "nbconvert_exporter": "python",
   "pygments_lexer": "ipython3",
   "version": "3.9.5"
  }
 },
 "nbformat": 4,
 "nbformat_minor": 1
}
