{
 "cells": [
  {
   "cell_type": "code",
   "execution_count": 2,
   "metadata": {},
   "outputs": [],
   "source": [
    "import ee\n",
    "#ee.Authenticate()\n",
    "ee.Initialize()"
   ]
  },
  {
   "cell_type": "code",
   "execution_count": 3,
   "metadata": {
    "scrolled": false
   },
   "outputs": [
    {
     "data": {
      "application/vnd.jupyter.widget-view+json": {
       "model_id": "dab9e1b8eb58486dbcc4ea49b47903ab",
       "version_major": 2,
       "version_minor": 0
      },
      "text/plain": [
       "Map(center=[39.027884, -84.137946], controls=(WidgetControl(options=['position', 'transparent_bg'], widget=HBo…"
      ]
     },
     "metadata": {},
     "output_type": "display_data"
    }
   ],
   "source": [
    "import geemap\n",
    "Map = geemap.Map(center=[39.027884,-84.137946], zoom=12)\n",
    "Map.add_basemap('SATELLITE') # Add Google Map\n",
    "Map"
   ]
  },
  {
   "cell_type": "code",
   "execution_count": 5,
   "metadata": {},
   "outputs": [],
   "source": [
    "#search parameters are set here\n",
    "from datetime import date, timedelta\n",
    "pnt_date = date(2019, 11, 4)\n",
    "lat =  39.027884\n",
    "lon = -84.137946\n",
    "delta = timedelta(days = 10)"
   ]
  },
  {
   "cell_type": "markdown",
   "metadata": {},
   "source": [
    "$ \\alpha^\\frac{1}{h} $"
   ]
  },
  {
   "cell_type": "code",
   "execution_count": 6,
   "metadata": {},
   "outputs": [
    {
     "name": "stdout",
     "output_type": "stream",
     "text": [
      "Found an  image for date: 2019-11-04  at date: 11/01/2019\n"
     ]
    }
   ],
   "source": [
    "from sentinel_search import sentinel2Availability, ImageExist\n",
    "p1 = ee.Geometry.Point([lon, lat])\n",
    "#  search sentinel first\n",
    "img = sentinel2Availability(ee,pnt_date, lat, lon, delta, True)\n",
    "bands = ['B1','B2','B3','B4','B5','B7']\n",
    "if ImageExist(img) == 'true':\n",
    "    ac_date = ee.Date(img.get('system:time_start')).format('MM/dd/YYYY');\n",
    "    print('Found an ' + ' image for date:', pnt_date, ' at date:', ac_date.getInfo())\n",
    "    img1 = img.select(['B2','B3','B4','B8A','B11','B12'],['B1','B2','B3','B4','B5','B7'])\n",
    "    \n",
    "    #the band names are defined to match Landsat TM bands\n",
    "    vis = {'bands': ['B3', 'B2', 'B1'],'min': [0, 0, 0], 'max': [1000,1000, 1000]} #reflectance * 10000\n",
    "    Map.addLayer(img1, vis,'Sentinel')\n",
    "else:\n",
    "    print('No image was found, try another date')"
   ]
  },
  {
   "cell_type": "code",
   "execution_count": 7,
   "metadata": {},
   "outputs": [],
   "source": [
    "roi = ee.Geometry.Polygon(\n",
    "        [[[-84.2676, 39.0968],\n",
    "          [-84.2676, 38.9562],\n",
    "          [-84.0172, 38.9562],\n",
    "          [-84.0172, 39.0968]]])\n",
    "image_studyarea = img1.clip(roi)"
   ]
  },
  {
   "cell_type": "code",
   "execution_count": 8,
   "metadata": {},
   "outputs": [],
   "source": [
    "Map.addLayer(image_studyarea, vis,'Sentine2')"
   ]
  },
  {
   "cell_type": "code",
   "execution_count": 9,
   "metadata": {},
   "outputs": [],
   "source": [
    "#compute NDVI\n",
    "ndvi = image_studyarea.normalizedDifference((['B4', 'B3']))\n",
    "palette = ['FFFFFF', 'CE7E45', 'DF923D', 'F1B555', 'FCD163', '99B718',\n",
    "               '74A901', '66A000', '529400', '3E8601', '207401', '056201',\n",
    "               '004C00', '023B01', '012E01', '011D01', '011301']\n",
    "Map.addLayer(ndvi, {'min': 0, 'max': 1, 'palette': palette}, 'NDVI')"
   ]
  },
  {
   "cell_type": "code",
   "execution_count": 10,
   "metadata": {},
   "outputs": [
    {
     "data": {
      "text/plain": [
       "{'state': 'READY',\n",
       " 'description': 'NDVI',\n",
       " 'creation_timestamp_ms': 1624498456402,\n",
       " 'update_timestamp_ms': 1624498456402,\n",
       " 'start_timestamp_ms': 0,\n",
       " 'task_type': 'EXPORT_IMAGE',\n",
       " 'id': 'IINP3X4QSHHXFTJ5PPOQI4UZ',\n",
       " 'name': 'projects/earthengine-legacy/operations/IINP3X4QSHHXFTJ5PPOQI4UZ'}"
      ]
     },
     "execution_count": 10,
     "metadata": {},
     "output_type": "execute_result"
    }
   ],
   "source": [
    "task1 = ee.batch.Export.image.toDrive(image=ndvi,description=\"NDVI\",fileNamePrefix=\"NDVI\",fileFormat=\"GeoTIFF\",scale=30, folder=\"anyFolder\")\n",
    "task1.start()\n",
    "task1.status()"
   ]
  },
  {
   "cell_type": "code",
   "execution_count": 12,
   "metadata": {},
   "outputs": [
    {
     "data": {
      "text/plain": [
       "{'state': 'RUNNING',\n",
       " 'description': 'NDVI',\n",
       " 'creation_timestamp_ms': 1624498456402,\n",
       " 'update_timestamp_ms': 1624498470192,\n",
       " 'start_timestamp_ms': 1624498467335,\n",
       " 'task_type': 'EXPORT_IMAGE',\n",
       " 'attempt': 1,\n",
       " 'id': 'IINP3X4QSHHXFTJ5PPOQI4UZ',\n",
       " 'name': 'projects/earthengine-legacy/operations/IINP3X4QSHHXFTJ5PPOQI4UZ'}"
      ]
     },
     "execution_count": 12,
     "metadata": {},
     "output_type": "execute_result"
    }
   ],
   "source": [
    "task1.status()"
   ]
  }
 ],
 "metadata": {
  "kernelspec": {
   "display_name": "py39_gee",
   "language": "python",
   "name": "py39_gee"
  },
  "language_info": {
   "codemirror_mode": {
    "name": "ipython",
    "version": 3
   },
   "file_extension": ".py",
   "mimetype": "text/x-python",
   "name": "python",
   "nbconvert_exporter": "python",
   "pygments_lexer": "ipython3",
   "version": "3.9.5"
  }
 },
 "nbformat": 4,
 "nbformat_minor": 4
}
