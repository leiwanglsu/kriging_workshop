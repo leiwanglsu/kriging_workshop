{
 "cells": [
  {
   "cell_type": "markdown",
   "metadata": {},
   "source": [
    "### Initialize the GEE envrionment\n",
    "___\n"
   ]
  },
  {
   "cell_type": "code",
   "execution_count": 1,
   "metadata": {},
   "outputs": [],
   "source": [
    "import ee\n",
    "#ee.Authenticate()\n",
    "ee.Initialize()"
   ]
  },
  {
   "cell_type": "markdown",
   "metadata": {},
   "source": [
    "This will make Google EE ready to use. Run the following codes to test if you can see a map. "
   ]
  },
  {
   "cell_type": "code",
   "execution_count": 2,
   "metadata": {
    "scrolled": false
   },
   "outputs": [
    {
     "data": {
      "application/vnd.jupyter.widget-view+json": {
       "model_id": "839521ca1ca047289ee6442153c07f0b",
       "version_major": 2,
       "version_minor": 0
      },
      "text/plain": [
       "Map(center=[39.027884, -84.137946], controls=(WidgetControl(options=['position', 'transparent_bg'], widget=HBo…"
      ]
     },
     "metadata": {},
     "output_type": "display_data"
    }
   ],
   "source": [
    "import geemap\n",
    "Map = geemap.Map(center=[39.027884,-84.137946], zoom=12)\n",
    "Map.add_basemap('SATELLITE') # Add Google Map\n",
    "Map"
   ]
  },
  {
   "cell_type": "code",
   "execution_count": null,
   "metadata": {},
   "outputs": [],
   "source": [
    "#Map.setCenter(-90.162, 29.8597, 12)   # New Orleans, USA , change the coordinate to your study area"
   ]
  },
  {
   "cell_type": "markdown",
   "metadata": {},
   "source": [
    "## Search for sentinel images with given coordinate and time\n",
    "A time delta is set to 2 days by default. It relaxes the search window from 1 day to $1\\pm 2 days$"
   ]
  },
  {
   "cell_type": "code",
   "execution_count": 3,
   "metadata": {},
   "outputs": [],
   "source": [
    "#search parameters are set here\n",
    "from datetime import date, timedelta\n",
    "pnt_date = date(2019, 11, 4)\n",
    "lat =  39.027884\n",
    "lon = -84.137946\n",
    "delta = timedelta(days = 10)"
   ]
  },
  {
   "cell_type": "code",
   "execution_count": 4,
   "metadata": {},
   "outputs": [
    {
     "name": "stdout",
     "output_type": "stream",
     "text": [
      "Found an  image for date: 2019-11-04  at date: 11/01/2019\n"
     ]
    }
   ],
   "source": [
    "from sentinel_search import sentinel2Availability, ImageExist\n",
    "p1 = ee.Geometry.Point([lon, lat])\n",
    "#  search sentinel first\n",
    "img = sentinel2Availability(ee,pnt_date, lat, lon, delta, True)\n",
    "bands = ['B1','B2','B3','B4','B5','B7']\n",
    "if ImageExist(img) == 'true':\n",
    "    ac_date = ee.Date(img.get('system:time_start')).format('MM/dd/YYYY');\n",
    "    print('Found an ' + ' image for date:', pnt_date, ' at date:', ac_date.getInfo())\n",
    "    img1 = img.select(['B2','B3','B4','B8A','B11','B12'],['B1','B2','B3','B4','B5','B7'])\n",
    "    \n",
    "    #the band names are defined to match Landsat TM bands\n",
    "    vis = {'bands': ['B4', 'B3', 'B2'],'min': [0, 0, 0], 'max': [1000,1000, 1000]} #reflectance * 10000\n",
    "    Map.addLayer(img1, vis,'Sentinel')\n",
    "else:\n",
    "    print('No image was found, try another date')\n",
    " "
   ]
  },
  {
   "cell_type": "markdown",
   "metadata": {},
   "source": [
    "## use featurecollection to create sample data points.\n",
    "The feature collections can be sampled from the image if the ground sample points are supplied\n"
   ]
  },
  {
   "cell_type": "code",
   "execution_count": 7,
   "metadata": {},
   "outputs": [],
   "source": [
    "p1 = ee.Geometry.Point(-84.138042,39.035259)\n",
    "p2 = ee.Geometry.Point(-84.133715,39.035095)\n",
    "p3 = ee.Geometry.Point(-84.142131,39.031263)\n",
    "p4 = ee.Geometry.Point(-84.137765,39.031283)\n",
    "p5 = ee.Geometry.Point(-84.133436,39.031577)\n",
    "p6 = ee.Geometry.Point(-84.137946,39.027884)\n",
    "p7 = ee.Geometry.Point(-84.133342,39.027865)\n",
    "p8 = ee.Geometry.Point(-84.151048,39.016645)\n",
    "\n",
    "# Use these bands for prediction.\n",
    "\n",
    "# Manually created points for the purpose of testing\n",
    "\n",
    "Points = ee.FeatureCollection([\n",
    "  ee.Feature(p1, {'Chl_a': 4.977778}),\n",
    "    ee.Feature(p2, {'Chl_a': 5.072131}),\n",
    "    ee.Feature(p3, {'Chl_a': 4.843056}),\n",
    "    ee.Feature(p4, {'Chl_a': 5.237681}),\n",
    "    ee.Feature(p5, {'Chl_a': 5.336842}),\n",
    "    ee.Feature(p6, {'Chl_a': 5.508696}),\n",
    "    ee.Feature(p7, {'Chl_a': 5.622078}),\n",
    "    ee.Feature(p8, {'Chl_a': 10.368889})\n",
    "])\n",
    "#you can use your own feature class uploaded as Assets as samples:\n",
    "Points = ee.FeatureCollection(\"users/leiwanglsu/water_quality/harsha\")\n",
    "training = img1.sampleRegions(**{\n",
    "  'collection': Points,\n",
    "  'properties': ['Chl_a'],\n",
    "  'scale': 15\n",
    "})\n",
    "# Train the classifier.\n",
    "svm_trained = ee.Classifier.libsvm(**{\n",
    "  'kernelType': 'RBF',\n",
    "  'svmType': 'EPSILON_SVR',\n",
    "  'gamma': 0.3,\n",
    "  'cost': 1\n",
    "}).setOutputMode('REGRESSION').train(training, 'Chl_a', bands)\n",
    "\n",
    "rf_trained = ee.Classifier.smileRandomForest(**{\n",
    "    'numberOfTrees':100}).setOutputMode('REGRESSION').train(training, 'Chl_a', bands)\n",
    "# Classify the image.\n",
    "classified_rf = img1.classify(rf_trained)\n",
    "classified_svm = img1.classify(svm_trained)"
   ]
  },
  {
   "cell_type": "code",
   "execution_count": 8,
   "metadata": {},
   "outputs": [],
   "source": [
    "# Display the classification result and the input image.\n",
    "\n",
    "Map.addLayer(classified_rf,\n",
    "             {'min': 1, 'max': 10, 'palette': ['red', 'green']},\n",
    "             'Chl_a_rf')\n",
    "Map.addLayer(classified_svm,\n",
    "             {'min': 1, 'max': 5, 'palette': ['red', 'green']},\n",
    "             'Chl_a_svm')\n",
    "Map.addLayer(Points,name='Samples')"
   ]
  }
 ],
 "metadata": {
  "kernelspec": {
   "display_name": "py39_gee",
   "language": "python",
   "name": "py39_gee"
  },
  "language_info": {
   "codemirror_mode": {
    "name": "ipython",
    "version": 3
   },
   "file_extension": ".py",
   "mimetype": "text/x-python",
   "name": "python",
   "nbconvert_exporter": "python",
   "pygments_lexer": "ipython3",
   "version": "3.9.5"
  }
 },
 "nbformat": 4,
 "nbformat_minor": 4
}
