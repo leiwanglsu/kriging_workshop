{
 "cells": [
  {
   "cell_type": "markdown",
   "id": "b0b96836",
   "metadata": {
    "slideshow": {
     "slide_type": "slide"
    }
   },
   "source": [
    "https://mgimond.github.io/Spatial/spatial-autocorrelation-in-r.html"
   ]
  },
  {
   "cell_type": "code",
   "execution_count": null,
   "id": "e6ec5eba",
   "metadata": {
    "slideshow": {
     "slide_type": "slide"
    }
   },
   "outputs": [],
   "source": [
    "library(tmap)\n",
    "load(url(\"http://github.com/mgimond/Spatial/raw/master/Data/moransI.RData\"))\n",
    "tm_shape(s1) + tm_polygons(style=\"quantile\", col = \"Income\") +\n",
    "  tm_legend(outside = TRUE, text.size = .8)"
   ]
  },
  {
   "cell_type": "markdown",
   "id": "665a84cd",
   "metadata": {
    "slideshow": {
     "slide_type": "slide"
    }
   },
   "source": [
    "## Spatial weights of polygons\n",
    "Spatial weights can be defined in two ways:\n",
    "* Distance based weights - defined by distance between centroids\n",
    "* Contiguity based weights - defined by connected neighbors\n",
    "\n"
   ]
  },
  {
   "cell_type": "code",
   "execution_count": null,
   "id": "45b20074",
   "metadata": {
    "slideshow": {
     "slide_type": "subslide"
    }
   },
   "outputs": [],
   "source": [
    "library(spdep)\n",
    "nb <- poly2nb(s1, queen=TRUE)\n",
    "lw <- nb2listw(nb, style=\"W\", zero.policy=TRUE)\n",
    "lw$weights[1]"
   ]
  },
  {
   "cell_type": "markdown",
   "id": "8dc9089d",
   "metadata": {
    "slideshow": {
     "slide_type": "slide"
    }
   },
   "source": [
    "## Moran's I from regression"
   ]
  },
  {
   "cell_type": "code",
   "execution_count": null,
   "id": "2754e768",
   "metadata": {
    "slideshow": {
     "slide_type": "subslide"
    }
   },
   "outputs": [],
   "source": [
    "library(spdep)\n",
    "nb <- poly2nb(s1, queen=TRUE)\n",
    "lw <- nb2listw(nb, style=\"W\", zero.policy=TRUE)\n",
    "Inc.lag <- lag.listw(lw, s1$Income)\n",
    "M <- lm(Inc.lag ~ s1$Income)\n",
    "plot( Inc.lag ~ s1$Income, pch=20, asp=1, las=1)\n",
    "coef(M)[2]"
   ]
  },
  {
   "cell_type": "code",
   "execution_count": null,
   "id": "516ac12a",
   "metadata": {
    "scrolled": true
   },
   "outputs": [],
   "source": [
    "n <- 599L   # Define the number of simulations\n",
    "I.r <- vector(length=n)  # Create an empty vector\n",
    "\n",
    "for (i in 1:n){\n",
    "  # Randomly shuffle income values\n",
    "  x <- sample(s1$Income, replace=FALSE)\n",
    "  # Compute new set of lagged values\n",
    "  x.lag <- lag.listw(lw, x)\n",
    "  # Compute the regression slope and store its value\n",
    "  M.r    <- lm(x.lag ~ x)\n",
    "  I.r[i] <- coef(M.r)[2]\n",
    "}\n",
    "# Plot the histogram of simulated Moran's I values\n",
    "# then add our observed Moran's I value to the plot\n",
    "hist(I.r, main=NULL, xlab=\"Moran's I\", las=1)\n",
    "abline(v=coef(M)[2], col=\"red\")"
   ]
  },
  {
   "cell_type": "code",
   "execution_count": null,
   "id": "c59cea97",
   "metadata": {},
   "outputs": [],
   "source": [
    "N.greater <- sum(coef(M)[2] > I.r)\n",
    "p <- min(N.greater + 1, n + 1 - N.greater) / (n + 1)\n",
    "p"
   ]
  },
  {
   "cell_type": "code",
   "execution_count": null,
   "id": "99ab7534",
   "metadata": {
    "scrolled": true,
    "slideshow": {
     "slide_type": "subslide"
    }
   },
   "outputs": [],
   "source": [
    "moran.test(s1$Income,lw)"
   ]
  },
  {
   "cell_type": "markdown",
   "id": "834d3a23",
   "metadata": {
    "slideshow": {
     "slide_type": "slide"
    }
   },
   "source": [
    "## Use distance band as spatial weights"
   ]
  },
  {
   "cell_type": "code",
   "execution_count": null,
   "id": "56a78bdc",
   "metadata": {
    "scrolled": true,
    "slideshow": {
     "slide_type": "subslide"
    }
   },
   "outputs": [],
   "source": [
    "coo <- coordinates(s1)\n",
    "S.dist  <-  dnearneigh(coo, 0, 50000)  \n",
    "lw <- nb2listw(S.dist, style=\"W\",zero.policy=T)\n",
    "MI  <-  moran.mc(s1$Income, lw, nsim=599,zero.policy=T)\n",
    "plot(MI, main=\"\", las=1) \n",
    "MI"
   ]
  }
 ],
 "metadata": {
  "celltoolbar": "Slideshow",
  "kernelspec": {
   "display_name": "R",
   "language": "R",
   "name": "ir"
  },
  "language_info": {
   "codemirror_mode": "r",
   "file_extension": ".r",
   "mimetype": "text/x-r-source",
   "name": "R",
   "pygments_lexer": "r",
   "version": "4.1.0"
  }
 },
 "nbformat": 4,
 "nbformat_minor": 5
}
