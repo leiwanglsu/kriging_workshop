{
 "cells": [
  {
   "cell_type": "code",
   "execution_count": null,
   "id": "cdba4540",
   "metadata": {
    "scrolled": true,
    "slideshow": {
     "slide_type": "slide"
    }
   },
   "outputs": [],
   "source": [
    "import ee\n",
    "import geemap\n",
    "Map = geemap.Map(center=[34.797058518162295, 114.30106209854621], zoom=8)\n",
    "#Map.add_basemap('ROADMAP') # Add Google Map\n",
    "Map\n"
   ]
  },
  {
   "cell_type": "code",
   "execution_count": null,
   "id": "ee8b151c",
   "metadata": {
    "scrolled": false,
    "slideshow": {
     "slide_type": "subslide"
    }
   },
   "outputs": [],
   "source": [
    "Map.setCenter(114.2,34.79,  9)\n",
    "geometry = ee.Geometry.Rectangle([114.29,34.79, 114.31, 34.81])\n",
    "    \n",
    "# Create a source image where the geometry is 1, everything else is 0.\n",
    "sources = ee.Image().toByte().paint(geometry, 1)\n",
    "\n",
    "# Mask the sources image with itself.\n",
    "sources = sources.updateMask(sources)\n",
    "\n",
    "cover = ee.Image('ESA/GLOBCOVER_L4_200901_200912_V2_3').select(0)\n",
    "\n",
    "Map.addLayer(cover, {}, 'Globcover')\n",
    "Map.addLayer(geometry, {'color': 'FF0000'}, 'source geometry')\n"
   ]
  },
  {
   "cell_type": "code",
   "execution_count": null,
   "id": "6d2c63d4",
   "metadata": {
    "slideshow": {
     "slide_type": "subslide"
    }
   },
   "outputs": [],
   "source": [
    "# The cost data is generated from classes in ESA/GLOBCOVER.\n",
    "\n",
    "\n",
    "# Classes 60, 80, 110, 140 have cost 1.\n",
    "# Classes 40, 90, 120, 130, 170 have cost 2.\n",
    "# Classes 50, 70, 150, 160 have cost 3.\n",
    "cost = \\\n",
    "  cover.eq(14).Or(cover.eq(80)).Or(cover.eq(110)).Or(cover.eq(140)) \\\n",
    "      .multiply(1).add(\n",
    "  cover.eq(11).Or(cover.eq(90)).Or(cover.eq(120)).Or(cover.eq(130)) \\\n",
    "    .Or(cover.eq(170)) \\\n",
    "      .multiply(2).add(\n",
    "  cover.eq(50).Or(cover.eq(70)).Or(cover.eq(150)).Or(cover.eq(190)) \\\n",
    "      .multiply(5)))\n",
    "# Compute the cumulative cost to traverse the lAnd cover.\n",
    "cumulativeCost = cost.cumulativeCost(**{\n",
    "  'source': sources,\n",
    "  'maxDistance': 50 * 1000 # 80 kilometers\n",
    "})\n",
    "\n",
    "\n",
    "Map.addLayer(cumulativeCost, {'min': 0, 'max': 5e4}, 'accumulated cost')\n"
   ]
  }
 ],
 "metadata": {
  "celltoolbar": "Slideshow",
  "kernelspec": {
   "display_name": "py39_gee",
   "language": "python",
   "name": "py39_gee"
  },
  "language_info": {
   "codemirror_mode": {
    "name": "ipython",
    "version": 3
   },
   "file_extension": ".py",
   "mimetype": "text/x-python",
   "name": "python",
   "nbconvert_exporter": "python",
   "pygments_lexer": "ipython3",
   "version": "3.9.5"
  }
 },
 "nbformat": 4,
 "nbformat_minor": 5
}
